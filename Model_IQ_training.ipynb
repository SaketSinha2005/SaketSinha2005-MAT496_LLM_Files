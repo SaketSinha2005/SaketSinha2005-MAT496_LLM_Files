{
 "cells": [
  {
   "cell_type": "code",
   "execution_count": 2,
   "id": "27a176ae-56f4-4d53-8363-8f2a7d012d49",
   "metadata": {},
   "outputs": [
    {
     "data": {
      "text/plain": [
       "True"
      ]
     },
     "execution_count": 2,
     "metadata": {},
     "output_type": "execute_result"
    }
   ],
   "source": [
    "from langchain.chat_models import init_chat_model\n",
    "from langchain_core.messages import HumanMessage,SystemMessage\n",
    "from dotenv import load_dotenv\n",
    "import os\n",
    "load_dotenv()"
   ]
  },
  {
   "cell_type": "code",
   "execution_count": 3,
   "id": "3e7d5cb8-2dcd-4e5f-b05f-21d7b9407b3e",
   "metadata": {},
   "outputs": [],
   "source": [
    "if not os.environ.get(\"GROQ_API_KEY\"):\n",
    "    raise ValueError(\"ROQ_API_KEY not found.\")\n",
    "\n",
    "model = init_chat_model(\"llama-3.1-8b-instant\", model_provider=\"groq\")"
   ]
  },
  {
   "cell_type": "code",
   "execution_count": 4,
   "id": "8b248949-d4ba-4b88-ad91-9925e0d3a866",
   "metadata": {},
   "outputs": [],
   "source": [
    "messages=[\n",
    "    SystemMessage(\"Dont add any other text other than asked thing\"),\n",
    "    HumanMessage(\"Give me a tricky iq testing question\"),\n",
    "    ]\n",
    "response=model.invoke(messages)"
   ]
  },
  {
   "cell_type": "code",
   "execution_count": 5,
   "id": "886715db-02a6-421c-ad48-42d99aedd6f3",
   "metadata": {},
   "outputs": [
    {
     "name": "stdout",
     "output_type": "stream",
     "text": [
      "There are three switches, but they are not labelled. Each switch corresponds to one of three light bulbs in a room. Each bulb is either on or off. You can turn the lights on and off as many times as you want, but you can only enter the room one time to observe the bulbs. How can you figure out which switch controls which light bulb?\n"
     ]
    }
   ],
   "source": [
    "print(response.content)"
   ]
  },
  {
   "cell_type": "code",
   "execution_count": 6,
   "id": "4333e756-b2b7-4f8a-a1c4-22b96bed05f5",
   "metadata": {},
   "outputs": [],
   "source": [
    "model2 = init_chat_model(\"llama-3.3-70b-versatile\", model_provider=\"groq\")"
   ]
  },
  {
   "cell_type": "code",
   "execution_count": 7,
   "id": "19dec12b-182e-4569-9cf5-12d19e30d032",
   "metadata": {},
   "outputs": [],
   "source": [
    "messages1=[\n",
    "    SystemMessage(\"Just try to solve the questions,dont add any other text other than answer\"),\n",
    "    HumanMessage(response.content),\n",
    "    ]\n",
    "response1=model.invoke(messages1)"
   ]
  },
  {
   "cell_type": "code",
   "execution_count": 8,
   "id": "8d7ca1fb-8948-4f9a-8287-01e8df1a082c",
   "metadata": {},
   "outputs": [
    {
     "name": "stdout",
     "output_type": "stream",
     "text": [
      "Turn two switches on for 5 minutes, then turn one off. Go into the room and observe the bulbs. \n",
      "\n",
      "The bulb that is still on is controlled by the switch that is still on. \n",
      "The bulb that is off but warm is controlled by the switch you turned off.\n",
      "\n",
      "Now you have two possibilities left. Turn the switch that you turned off back on and also turn the remaining switch on for 5 minutes. Then turn the switch you just turned back on off. \n",
      "\n",
      "Go back into the room and see which bulb is off but warm, that corresponds to the switch you just turned off. The remaining bulb corresponds to the switch that was on for 5 minutes.\n"
     ]
    }
   ],
   "source": [
    "print(response1.content)"
   ]
  },
  {
   "cell_type": "code",
   "execution_count": 10,
   "id": "ff323e46-068c-4abc-9800-88798eb8d408",
   "metadata": {},
   "outputs": [],
   "source": [
    "model3 = init_chat_model(\"llama-3.1-8b-instant\", model_provider=\"groq\")"
   ]
  },
  {
   "cell_type": "code",
   "execution_count": 11,
   "id": "ab9f7e41-f844-407c-abe8-da835dab3fd6",
   "metadata": {},
   "outputs": [],
   "source": [
    "messages2=[\n",
    "    SystemMessage(\"Just check my solutions and give answer in correct or not correct form\"),\n",
    "    HumanMessage(\"There are three switches, but they are not labelled. Each switch corresponds to one of three light bulbs in a room. Each light bulb is either on or off. You can turn the lights on and off as many times as you want, but you can only enter the room one time to observe the light bulbs. How can you figure out which switch corresponds to which light bulb?Soltuion={}.\".format(response1.content)),\n",
    "    ]\n",
    "response2=model.invoke(messages2)"
   ]
  },
  {
   "cell_type": "code",
   "execution_count": 12,
   "id": "eabcfdeb-b08c-4ccf-8000-674b2b579c6f",
   "metadata": {},
   "outputs": [
    {
     "name": "stdout",
     "output_type": "stream",
     "text": [
      "Correct.\n"
     ]
    }
   ],
   "source": [
    "print(response2.content)"
   ]
  },
  {
   "cell_type": "code",
   "execution_count": null,
   "id": "b39a4455-140b-463e-9cfb-55973d8c78d6",
   "metadata": {},
   "outputs": [],
   "source": []
  }
 ],
 "metadata": {
  "kernelspec": {
   "display_name": "Python 3 (ipykernel)",
   "language": "python",
   "name": "python3"
  },
  "language_info": {
   "codemirror_mode": {
    "name": "ipython",
    "version": 3
   },
   "file_extension": ".py",
   "mimetype": "text/x-python",
   "name": "python",
   "nbconvert_exporter": "python",
   "pygments_lexer": "ipython3",
   "version": "3.12.5"
  }
 },
 "nbformat": 4,
 "nbformat_minor": 5
}
